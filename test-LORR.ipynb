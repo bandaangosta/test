{
 "cells": [
  {
   "cell_type": "code",
   "execution_count": 45,
   "id": "dc8b7fed",
   "metadata": {},
   "outputs": [],
   "source": [
    "from CCL.LORR import LORR\n",
    "import math"
   ]
  },
  {
   "cell_type": "code",
   "execution_count": 46,
   "id": "66f61c3f",
   "metadata": {},
   "outputs": [],
   "source": [
    "# Antennas list for iteration\n",
    "CMs = ['CM{:02d}'.format(x + 1) for x in range(12)]\n",
    "DAs = ['DA{:02d}'.format(x + 41) for x in range(25)]\n",
    "DVs = ['DV{:02d}'.format(x + 1) for x in range(25)]\n",
    "PMs = ['PM{:02d}'.format(x + 1) for x in range(4)]\n",
    "abms = CMs + DAs + DVs + PMs"
   ]
  },
  {
   "cell_type": "code",
   "execution_count": 47,
   "id": "6ee6c1e6",
   "metadata": {},
   "outputs": [
    {
     "data": {
      "text/plain": [
       "['PM01', 'PM02', 'PM03', 'PM04']"
      ]
     },
     "execution_count": 47,
     "metadata": {},
     "output_type": "execute_result"
    }
   ],
   "source": [
    "PMs"
   ]
  },
  {
   "cell_type": "code",
   "execution_count": 48,
   "id": "a9a831d4",
   "metadata": {},
   "outputs": [
    {
     "name": "stdout",
     "output_type": "stream",
     "text": [
      "CM02 -9.69\n",
      "CM03 -6.68\n",
      "CM05 -6.88\n",
      "CM07 -6.88\n",
      "CM08 -6.58\n",
      "CM09 -8.34\n",
      "CM10 -7.93\n",
      "CM11 -8.06\n",
      "CM12 -7.09\n",
      "DA43 -18.34\n",
      "DA44 -9.31\n",
      "DA45 -6.68\n",
      "DA46 -5.79\n",
      "DA47 -9.49\n",
      "DA48 -10.81\n",
      "DA49 -8.64\n",
      "DA50 -8.64\n",
      "DA51 -9.89\n",
      "DA52 -8.34\n",
      "DA53 -11.35\n",
      "DA54 -9.13\n",
      "DA55 -10.81\n",
      "DA56 -7.55\n",
      "DA57 -7.09\n",
      "DA58 -9.49\n",
      "DA59 -15.33\n",
      "DA60 -9.89\n",
      "DA61 -7.93\n",
      "DA62 -8.06\n",
      "DA63 -8.34\n",
      "DA64 -9.13\n",
      "DA65 -7.80\n",
      "DV01 -8.49\n",
      "DV02 -7.20\n",
      "DV03 -6.88\n",
      "DV04 -8.49\n",
      "DV05 -9.31\n",
      "DV06 -8.34\n",
      "DV07 -7.80\n",
      "DV08 -8.80\n",
      "DV09 -9.69\n",
      "DV10 -11.35\n",
      "DV11 -8.06\n",
      "DV12 -8.64\n",
      "DV13 -9.31\n",
      "DV14 -8.06\n",
      "DV15 -8.49\n",
      "DV16 -6.39\n",
      "DV17 -7.55\n",
      "DV18 -7.80\n",
      "DV20 -8.64\n",
      "DV21 -11.35\n",
      "DV22 -10.32\n",
      "DV23 -9.89\n",
      "DV24 -10.56\n",
      "DV25 -7.55\n",
      "PM01 -7.55\n",
      "PM02 -8.64\n",
      "PM03 -9.49\n",
      "PM04 -8.96\n"
     ]
    }
   ],
   "source": [
    "results = []\n",
    "for ant in abms:\n",
    "     try:\n",
    "         lorr = LORR(ant)\n",
    "         power = f\"{math.log10((lorr.GET_RX_OPT_PWR()[0] * 1000))*10:.2f}\"\n",
    "         print(ant, power)\n",
    "         results.append([ant, float(power)])\n",
    "     except:\n",
    "         pass"
   ]
  },
  {
   "cell_type": "code",
   "execution_count": 49,
   "id": "a69c3539",
   "metadata": {},
   "outputs": [
    {
     "data": {
      "text/plain": [
       "[['DA43', -18.34],\n",
       " ['DA59', -15.33],\n",
       " ['DA53', -11.35],\n",
       " ['DV10', -11.35],\n",
       " ['DV21', -11.35],\n",
       " ['DA48', -10.81],\n",
       " ['DA55', -10.81],\n",
       " ['DV24', -10.56],\n",
       " ['DV22', -10.32],\n",
       " ['DA51', -9.89],\n",
       " ['DA60', -9.89],\n",
       " ['DV23', -9.89],\n",
       " ['CM02', -9.69],\n",
       " ['DV09', -9.69],\n",
       " ['DA47', -9.49],\n",
       " ['DA58', -9.49],\n",
       " ['PM03', -9.49],\n",
       " ['DA44', -9.31],\n",
       " ['DV05', -9.31],\n",
       " ['DV13', -9.31],\n",
       " ['DA54', -9.13],\n",
       " ['DA64', -9.13],\n",
       " ['PM04', -8.96],\n",
       " ['DV08', -8.8],\n",
       " ['DA49', -8.64],\n",
       " ['DA50', -8.64],\n",
       " ['DV12', -8.64],\n",
       " ['DV20', -8.64],\n",
       " ['PM02', -8.64],\n",
       " ['DV01', -8.49],\n",
       " ['DV04', -8.49],\n",
       " ['DV15', -8.49],\n",
       " ['CM09', -8.34],\n",
       " ['DA52', -8.34],\n",
       " ['DA63', -8.34],\n",
       " ['DV06', -8.34],\n",
       " ['CM11', -8.06],\n",
       " ['DA62', -8.06],\n",
       " ['DV11', -8.06],\n",
       " ['DV14', -8.06],\n",
       " ['CM10', -7.93],\n",
       " ['DA61', -7.93],\n",
       " ['DA65', -7.8],\n",
       " ['DV07', -7.8],\n",
       " ['DV18', -7.8],\n",
       " ['DA56', -7.55],\n",
       " ['DV17', -7.55],\n",
       " ['DV25', -7.55],\n",
       " ['PM01', -7.55],\n",
       " ['DV02', -7.2],\n",
       " ['CM12', -7.09],\n",
       " ['DA57', -7.09],\n",
       " ['CM05', -6.88],\n",
       " ['CM07', -6.88],\n",
       " ['DV03', -6.88],\n",
       " ['CM03', -6.68],\n",
       " ['DA45', -6.68],\n",
       " ['CM08', -6.58],\n",
       " ['DV16', -6.39],\n",
       " ['DA46', -5.79]]"
      ]
     },
     "execution_count": 49,
     "metadata": {},
     "output_type": "execute_result"
    }
   ],
   "source": [
    "results.sort(key=lambda z:z[1])\n",
    "results"
   ]
  },
  {
   "cell_type": "code",
   "execution_count": 50,
   "id": "46ff67e9",
   "metadata": {},
   "outputs": [],
   "source": [
    "import matplotlib.pyplot as plt"
   ]
  },
  {
   "cell_type": "code",
   "execution_count": 51,
   "id": "02b16e8b",
   "metadata": {},
   "outputs": [
    {
     "data": {
      "text/plain": [
       "['DA43',\n",
       " 'DA59',\n",
       " 'DA53',\n",
       " 'DV10',\n",
       " 'DV21',\n",
       " 'DA48',\n",
       " 'DA55',\n",
       " 'DV24',\n",
       " 'DV22',\n",
       " 'DA51',\n",
       " 'DA60',\n",
       " 'DV23',\n",
       " 'CM02',\n",
       " 'DV09',\n",
       " 'DA47',\n",
       " 'DA58',\n",
       " 'PM03',\n",
       " 'DA44',\n",
       " 'DV05',\n",
       " 'DV13',\n",
       " 'DA54',\n",
       " 'DA64',\n",
       " 'PM04',\n",
       " 'DV08',\n",
       " 'DA49',\n",
       " 'DA50',\n",
       " 'DV12',\n",
       " 'DV20',\n",
       " 'PM02',\n",
       " 'DV01',\n",
       " 'DV04',\n",
       " 'DV15',\n",
       " 'CM09',\n",
       " 'DA52',\n",
       " 'DA63',\n",
       " 'DV06',\n",
       " 'CM11',\n",
       " 'DA62',\n",
       " 'DV11',\n",
       " 'DV14',\n",
       " 'CM10',\n",
       " 'DA61',\n",
       " 'DA65',\n",
       " 'DV07',\n",
       " 'DV18',\n",
       " 'DA56',\n",
       " 'DV17',\n",
       " 'DV25',\n",
       " 'PM01',\n",
       " 'DV02',\n",
       " 'CM12',\n",
       " 'DA57',\n",
       " 'CM05',\n",
       " 'CM07',\n",
       " 'DV03',\n",
       " 'CM03',\n",
       " 'DA45',\n",
       " 'CM08',\n",
       " 'DV16',\n",
       " 'DA46']"
      ]
     },
     "execution_count": 51,
     "metadata": {},
     "output_type": "execute_result"
    }
   ],
   "source": [
    "x = [i[0] for i in results]\n",
    "x"
   ]
  },
  {
   "cell_type": "code",
   "execution_count": 52,
   "id": "ec832fcf",
   "metadata": {},
   "outputs": [
    {
     "data": {
      "text/plain": [
       "[-18.34,\n",
       " -15.33,\n",
       " -11.35,\n",
       " -11.35,\n",
       " -11.35,\n",
       " -10.81,\n",
       " -10.81,\n",
       " -10.56,\n",
       " -10.32,\n",
       " -9.89,\n",
       " -9.89,\n",
       " -9.89,\n",
       " -9.69,\n",
       " -9.69,\n",
       " -9.49,\n",
       " -9.49,\n",
       " -9.49,\n",
       " -9.31,\n",
       " -9.31,\n",
       " -9.31,\n",
       " -9.13,\n",
       " -9.13,\n",
       " -8.96,\n",
       " -8.8,\n",
       " -8.64,\n",
       " -8.64,\n",
       " -8.64,\n",
       " -8.64,\n",
       " -8.64,\n",
       " -8.49,\n",
       " -8.49,\n",
       " -8.49,\n",
       " -8.34,\n",
       " -8.34,\n",
       " -8.34,\n",
       " -8.34,\n",
       " -8.06,\n",
       " -8.06,\n",
       " -8.06,\n",
       " -8.06,\n",
       " -7.93,\n",
       " -7.93,\n",
       " -7.8,\n",
       " -7.8,\n",
       " -7.8,\n",
       " -7.55,\n",
       " -7.55,\n",
       " -7.55,\n",
       " -7.55,\n",
       " -7.2,\n",
       " -7.09,\n",
       " -7.09,\n",
       " -6.88,\n",
       " -6.88,\n",
       " -6.88,\n",
       " -6.68,\n",
       " -6.68,\n",
       " -6.58,\n",
       " -6.39,\n",
       " -5.79]"
      ]
     },
     "execution_count": 52,
     "metadata": {},
     "output_type": "execute_result"
    }
   ],
   "source": [
    "y = [i[1] for i in results]\n",
    "y"
   ]
  },
  {
   "cell_type": "code",
   "execution_count": 53,
   "id": "7490a77b",
   "metadata": {},
   "outputs": [
    {
     "data": {
      "text/plain": [
       "[<matplotlib.lines.Line2D at 0x7f6bce424518>]"
      ]
     },
     "execution_count": 53,
     "metadata": {},
     "output_type": "execute_result"
    },
    {
     "data": {
      "image/png": "[encoded data removed]",
      "text/plain": [
       "<Figure size 432x288 with 1 Axes>"
      ]
     },
     "metadata": {
      "needs_background": "light"
     },
     "output_type": "display_data"
    }
   ],
   "source": [
    "plt.plot(x, y)"
   ]
  },
  {
   "cell_type": "markdown",
   "id": "69b82040",
   "metadata": {},
   "source": [
    "## LORR received optical power all antennas"
   ]
  },
  {
   "cell_type": "code",
   "execution_count": 54,
   "id": "07d4d6c0",
   "metadata": {},
   "outputs": [
    {
     "data": {
      "image/png": "[encoded data removed]",
      "text/plain": [
       "<Figure size 1080x432 with 1 Axes>"
      ]
     },
     "metadata": {
      "needs_background": "light"
     },
     "output_type": "display_data"
    }
   ],
   "source": [
    "plt.figure(figsize=(15,6))\n",
    "plt.plot(x, y, 'b. ')\n",
    "rotate = plt.xticks(rotation=90)\n",
    "title = plt.title('LORR Rx Optical power')\n",
    "ylabel = plt.ylabel('Power [dBm]')"
   ]
  },
  {
   "cell_type": "code",
   "execution_count": null,
   "id": "c8f6f79c",
   "metadata": {},
   "outputs": [],
   "source": []
  }
 ],
 "metadata": {
  "kernelspec": {
   "display_name": "Python 3",
   "language": "python",
   "name": "python3"
  },
  "language_info": {
   "codemirror_mode": {
    "name": "ipython",
    "version": 3
   },
   "file_extension": ".py",
   "mimetype": "text/x-python",
   "name": "python",
   "nbconvert_exporter": "python",
   "pygments_lexer": "ipython3",
   "version": "3.6.9"
  }
 },
 "nbformat": 4,
 "nbformat_minor": 5
}
